{
 "cells": [
  {
   "cell_type": "markdown",
   "id": "f92bd6ad-d62d-4693-b55f-0e0f8e527e2e",
   "metadata": {},
   "source": [
    "## descriptive stats\n",
    "* generate descriptive statistics in the data set"
   ]
  },
  {
   "cell_type": "code",
   "execution_count": 78,
   "id": "53a55c6d-a349-457b-8450-6427f3216f72",
   "metadata": {},
   "outputs": [
    {
     "name": "stdout",
     "output_type": "stream",
     "text": [
      "Requirement already satisfied: pandas in /opt/conda/lib/python3.11/site-packages (2.2.3)\n",
      "Requirement already satisfied: openpyxl in /opt/conda/lib/python3.11/site-packages (3.1.5)\n",
      "Requirement already satisfied: seaborn in /opt/conda/lib/python3.11/site-packages (0.13.2)\n",
      "Collecting scipy\n",
      "  Downloading scipy-1.15.1-cp311-cp311-manylinux_2_17_x86_64.manylinux2014_x86_64.whl.metadata (61 kB)\n",
      "\u001b[2K     \u001b[90m━━━━━━━━━━━━━━━━━━━━━━━━━━━━━━━━━━━━━━━━\u001b[0m \u001b[32m62.0/62.0 kB\u001b[0m \u001b[31m1.8 MB/s\u001b[0m eta \u001b[36m0:00:00\u001b[0m\n",
      "\u001b[?25hRequirement already satisfied: numpy>=1.23.2 in /opt/conda/lib/python3.11/site-packages (from pandas) (2.2.3)\n",
      "Requirement already satisfied: python-dateutil>=2.8.2 in /opt/conda/lib/python3.11/site-packages (from pandas) (2.8.2)\n",
      "Requirement already satisfied: pytz>=2020.1 in /opt/conda/lib/python3.11/site-packages (from pandas) (2023.3.post1)\n",
      "Requirement already satisfied: tzdata>=2022.7 in /opt/conda/lib/python3.11/site-packages (from pandas) (2025.1)\n",
      "Requirement already satisfied: et-xmlfile in /opt/conda/lib/python3.11/site-packages (from openpyxl) (2.0.0)\n",
      "Requirement already satisfied: matplotlib!=3.6.1,>=3.4 in /opt/conda/lib/python3.11/site-packages (from seaborn) (3.10.0)\n",
      "Requirement already satisfied: contourpy>=1.0.1 in /opt/conda/lib/python3.11/site-packages (from matplotlib!=3.6.1,>=3.4->seaborn) (1.3.1)\n",
      "Requirement already satisfied: cycler>=0.10 in /opt/conda/lib/python3.11/site-packages (from matplotlib!=3.6.1,>=3.4->seaborn) (0.12.1)\n",
      "Requirement already satisfied: fonttools>=4.22.0 in /opt/conda/lib/python3.11/site-packages (from matplotlib!=3.6.1,>=3.4->seaborn) (4.56.0)\n",
      "Requirement already satisfied: kiwisolver>=1.3.1 in /opt/conda/lib/python3.11/site-packages (from matplotlib!=3.6.1,>=3.4->seaborn) (1.4.8)\n",
      "Requirement already satisfied: packaging>=20.0 in /opt/conda/lib/python3.11/site-packages (from matplotlib!=3.6.1,>=3.4->seaborn) (23.2)\n",
      "Requirement already satisfied: pillow>=8 in /opt/conda/lib/python3.11/site-packages (from matplotlib!=3.6.1,>=3.4->seaborn) (11.1.0)\n",
      "Requirement already satisfied: pyparsing>=2.3.1 in /opt/conda/lib/python3.11/site-packages (from matplotlib!=3.6.1,>=3.4->seaborn) (3.2.1)\n",
      "Requirement already satisfied: six>=1.5 in /opt/conda/lib/python3.11/site-packages (from python-dateutil>=2.8.2->pandas) (1.16.0)\n",
      "Downloading scipy-1.15.1-cp311-cp311-manylinux_2_17_x86_64.manylinux2014_x86_64.whl (40.6 MB)\n",
      "\u001b[2K   \u001b[90m━━━━━━━━━━━━━━━━━━━━━━━━━━━━━━━━━━━━━━━━\u001b[0m \u001b[32m40.6/40.6 MB\u001b[0m \u001b[31m50.3 MB/s\u001b[0m eta \u001b[36m0:00:00\u001b[0m:00:01\u001b[0m00:01\u001b[0m\n",
      "\u001b[?25hInstalling collected packages: scipy\n",
      "Successfully installed scipy-1.15.1\n"
     ]
    }
   ],
   "source": [
    "!pip install pandas openpyxl seaborn scipy"
   ]
  },
  {
   "cell_type": "code",
   "execution_count": 326,
   "id": "b4cf8165-0e71-481d-bb3f-33efb00015f8",
   "metadata": {},
   "outputs": [],
   "source": [
    "# import packages\n",
    "import numpy as np\n",
    "import pandas as pd\n",
    "import scipy\n",
    "import seaborn as sns\n",
    "import matplotlib.pyplot as plt\n",
    "from scipy.stats import chi2_contingency, fisher_exact\n",
    "from scipy.stats import ks_2samp, mannwhitneyu"
   ]
  },
  {
   "cell_type": "markdown",
   "id": "17059bb2-ffe6-4218-a835-2aa8a9ae3ee0",
   "metadata": {},
   "source": [
    "### load and preprocess data"
   ]
  },
  {
   "cell_type": "code",
   "execution_count": 9,
   "id": "c90774de-4518-4ff7-93ef-6a0bb0fc66fb",
   "metadata": {},
   "outputs": [],
   "source": [
    "df = pd.read_excel('examination sheet.xlsx',sheet_name='Sheet1')"
   ]
  },
  {
   "cell_type": "code",
   "execution_count": 10,
   "id": "f53e8c76-9640-487d-809d-b36b5fac53a6",
   "metadata": {},
   "outputs": [
    {
     "data": {
      "text/plain": [
       "Index(['author', 'created_utc', 'title', 'selftext', 'note', 'Jurisdictions',\n",
       "       'Relevance', 'Poster's legal status', 'misconception ',\n",
       "       'unclear knowledge', 'Category', 'Background',\n",
       "       'Is takedown procedure involved? ', 'round 1 cross examination',\n",
       "       'round 2 cross examination', 'The meaning of registration',\n",
       "       'The meaning of copyright', 'Registration subject matter: idea',\n",
       "       'Unnamed: 18', 'Unnamed: 19', 'Unnamed: 20', 'Unnamed: 21',\n",
       "       'Infringement: how to prevent others from infringing my work',\n",
       "       'Unnamed: 23', 'Unnamed: 24', 'Unnamed: 25', 'first_local',\n",
       "       'count_local', 'first_global', 'count_global'],\n",
       "      dtype='object')"
      ]
     },
     "execution_count": 10,
     "metadata": {},
     "output_type": "execute_result"
    }
   ],
   "source": [
    "df.columns"
   ]
  },
  {
   "cell_type": "code",
   "execution_count": 304,
   "id": "0044a8f2-db9e-433d-8784-1be7eff267bb",
   "metadata": {},
   "outputs": [],
   "source": [
    "df_sub = df[['author', 'created_utc', 'title', 'selftext', 'note', 'Jurisdictions',\n",
    "             'Relevance', \"Poster's legal status\", 'misconception ',\n",
    "             'unclear knowledge', 'Category', 'Background',\n",
    "             'Is takedown procedure involved? ', 'count_local','count_global']].copy()\n",
    "\n",
    "sel_rel = df_sub['Relevance']=='relevant'\n",
    "sel_misconcep = df_sub['misconception ']=='#'\n",
    "sel_unclear_knowledge = df_sub['unclear knowledge']=='#'\n",
    "\n",
    "df_sub.loc[(sel_rel & sel_misconcep)==True, 'misconception ']='NaN'\n",
    "df_sub.loc[(sel_rel & sel_unclear_knowledge)==True, 'unclear knowledge'] = 'NaN'\n",
    "\n",
    "df_sub.loc[:,'text_len'] = df_sub['selftext'].apply(lambda x: 0 if pd.isna(x) else len(x))\n",
    "\n",
    "# count repetitions for non-NA title and selftext\n",
    "\n",
    "df_sub['rep_counts'] = df_sub.groupby(['title','selftext']).transform('size')\n",
    "\n",
    "# manually set the rep_counts=1 for the single case that doesn't have title but have selftext\n",
    "df_sub.loc[df_sub['title'].isna(), 'rep_counts'] = 1\n",
    "\n",
    "# if selftext is na, count title only\n",
    "df_sub.loc[df_sub['selftext'].isna(), 'rep_counts'] = df_sub[df_sub['selftext'].isna()].groupby(['title']).transform('size')\n",
    "df_sub['rep_counts'] = df_sub['rep_counts'].astype('int64')\n",
    "\n",
    "# drop duplicates\n",
    "df_sub.drop_duplicates(subset=['title', 'selftext'], keep='first', inplace=True)"
   ]
  },
  {
   "cell_type": "code",
   "execution_count": null,
   "id": "89dcc1b3-3482-4571-ab0d-01a202cbbe7f",
   "metadata": {},
   "outputs": [],
   "source": []
  },
  {
   "cell_type": "markdown",
   "id": "bdbe60a6-58f4-4375-9352-0b222ad192fe",
   "metadata": {},
   "source": [
    "### duplication and relevance"
   ]
  },
  {
   "cell_type": "code",
   "execution_count": 307,
   "id": "6033f39f-f25a-452b-8cbd-d982a4d247d8",
   "metadata": {},
   "outputs": [],
   "source": [
    "df_sub['is_rep'] = df_sub['rep_counts'].apply(lambda x: 1 if x>1 else 0)"
   ]
  },
  {
   "cell_type": "code",
   "execution_count": 308,
   "id": "69dd63ac-3cb7-49b1-88c8-453d9df3a12a",
   "metadata": {},
   "outputs": [],
   "source": [
    "sel = df_sub['Relevance'] == 'relevant'"
   ]
  },
  {
   "cell_type": "code",
   "execution_count": 309,
   "id": "7e50412e-2b73-4123-a155-40d0413df25d",
   "metadata": {},
   "outputs": [],
   "source": [
    "df_sub.loc[sel, 'is_relevant'] = 1\n",
    "df_sub.loc[~sel, 'is_relevant'] = 0\n",
    "df_sub['is_relevant'] = df_sub['is_relevant'].astype('int64')"
   ]
  },
  {
   "cell_type": "code",
   "execution_count": 310,
   "id": "926b67b6-7c6a-4a3f-88f7-8aad827be1c8",
   "metadata": {},
   "outputs": [
    {
     "name": "stdout",
     "output_type": "stream",
     "text": [
      "Chi-Squared Statistic: 1.1770821015161919, p-value: 0.27795082318934633\n",
      "No significant association (fail to reject H₀)\n"
     ]
    }
   ],
   "source": [
    "\n",
    "\n",
    "# Example binary arrays (replace with your actual data)\n",
    "array1 = df_sub['is_rep']\n",
    "array2 = df_sub['is_relevant']\n",
    "\n",
    "# Create a contingency table\n",
    "a = np.sum((array1 == 0) & (array2 == 0))\n",
    "b = np.sum((array1 == 0) & (array2 == 1))\n",
    "c = np.sum((array1 == 1) & (array2 == 0))\n",
    "d = np.sum((array1 == 1) & (array2 == 1))\n",
    "\n",
    "contingency_table = np.array([[a, b], [c, d]])\n",
    "\n",
    "# Perform Chi-Squared test\n",
    "chi2_stat, p_value, dof, expected = chi2_contingency(contingency_table)\n",
    "\n",
    "print(f\"Chi-Squared Statistic: {chi2_stat}, p-value: {p_value}\")\n",
    "\n",
    "# Interpretation\n",
    "if p_value < 0.05:\n",
    "    print(\"Significant association (reject H₀: variables are independent)\")\n",
    "else:\n",
    "    print(\"No significant association (fail to reject H₀)\")\n"
   ]
  },
  {
   "cell_type": "code",
   "execution_count": 311,
   "id": "757d30d5-89bf-4571-b8cf-22f47686da05",
   "metadata": {},
   "outputs": [
    {
     "data": {
      "text/plain": [
       "array([[1775, 1045],\n",
       "       [  97,   69]])"
      ]
     },
     "execution_count": 311,
     "metadata": {},
     "output_type": "execute_result"
    }
   ],
   "source": [
    "contingency_table # seems that significance due to 0-inflation"
   ]
  },
  {
   "cell_type": "code",
   "execution_count": 312,
   "id": "5d6e0f6b-b445-4f7f-a9ac-cf847221831d",
   "metadata": {},
   "outputs": [
    {
     "name": "stdout",
     "output_type": "stream",
     "text": [
      "Original Contingency Table:\n",
      "          Array2=0  Array2=1\n",
      "Array1=0      1775      1045\n",
      "Array1=1        97        69\n",
      "\n",
      "Filtered Contingency Table (Excluding (0,0)):\n",
      "          Array2=0  Array2=1\n",
      "Array1=0    1045.0      69.0\n",
      "Array1=1      97.0       NaN\n",
      "\n",
      "Chi-Squared Test (Zero-Inflation Adjusted):\n",
      "Chi-Squared Statistic: 1.1770821015161919, p-value: 0.27795082318934633\n",
      "\n",
      "Odds Ratio: 1.208\n",
      "95% Confidence Interval: (0.879, 1.661)\n",
      "Fisher’s Exact Test p-value: 0.248\n"
     ]
    }
   ],
   "source": [
    "\n",
    "\n",
    "# Example zero-inflated binary arrays\n",
    "array1 = df_sub['is_rep']\n",
    "array2 = df_sub['is_relevant']\n",
    "\n",
    "# Create full contingency table\n",
    "a = np.sum((array1 == 0) & (array2 == 0))  # Majority (0,0)\n",
    "b = np.sum((array1 == 0) & (array2 == 1))\n",
    "c = np.sum((array1 == 1) & (array2 == 0))\n",
    "d = np.sum((array1 == 1) & (array2 == 1))\n",
    "\n",
    "full_table = np.array([[a, b], [c, d]])\n",
    "\n",
    "# Create contingency table **excluding (0,0) cases** to fix zero-inflation issue\n",
    "filtered_table = np.array([[b, d], [c, np.nan]])  # NaN to prevent chi-squared issues\n",
    "\n",
    "print(\"Original Contingency Table:\")\n",
    "print(pd.DataFrame(full_table, index=[\"Array1=0\", \"Array1=1\"], columns=[\"Array2=0\", \"Array2=1\"]))\n",
    "\n",
    "print(\"\\nFiltered Contingency Table (Excluding (0,0)):\")\n",
    "print(pd.DataFrame(filtered_table, index=[\"Array1=0\", \"Array1=1\"], columns=[\"Array2=0\", \"Array2=1\"]))\n",
    "\n",
    "# Use only the non-zero part of the contingency table\n",
    "chi2_stat, chi2_p, dof, expected = chi2_contingency(full_table, correction=True)\n",
    "\n",
    "print(f\"\\nChi-Squared Test (Zero-Inflation Adjusted):\")\n",
    "print(f\"Chi-Squared Statistic: {chi2_stat}, p-value: {chi2_p}\\n\")\n",
    "\n",
    "# Compute OR using Fisher’s Exact Test\n",
    "odds_ratio, fisher_p = fisher_exact([[a, b], [c, d]])\n",
    "\n",
    "# Compute Standard Error (SE) of log(OR)\n",
    "if a > 0 and b > 0 and c > 0 and d > 0:\n",
    "    se_log_or = np.sqrt(1/a + 1/b + 1/c + 1/d)\n",
    "    log_or = np.log(odds_ratio)\n",
    "    \n",
    "    # 95% Confidence Interval\n",
    "    z = 1.96  # 95% CI\n",
    "    #z = 1.645 # 90% CI\n",
    "    ci_lower = np.exp(log_or - z * se_log_or)\n",
    "    ci_upper = np.exp(log_or + z * se_log_or)\n",
    "    \n",
    "    print(f\"Odds Ratio: {odds_ratio:.3f}\")\n",
    "    print(f\"95% Confidence Interval: ({ci_lower:.3f}, {ci_upper:.3f})\")\n",
    "    print(f\"Fisher’s Exact Test p-value: {fisher_p:.3f}\")\n",
    "else:\n",
    "    print(\"Confidence interval cannot be computed due to zero counts.\")"
   ]
  },
  {
   "cell_type": "code",
   "execution_count": 313,
   "id": "ae267c94-f9bc-4d87-9a63-71e5da358589",
   "metadata": {},
   "outputs": [],
   "source": [
    "df_sub['Relevance'] = df_sub['Relevance'].fillna('irrelevant')"
   ]
  },
  {
   "cell_type": "code",
   "execution_count": 314,
   "id": "3fc8fb59-9dad-4c66-a144-2c7b37dd285b",
   "metadata": {},
   "outputs": [],
   "source": [
    "#sel_vague = df_sub['Relevance']=='vague'\n",
    "df_sub['is_relevant'] = 0\n",
    "df_sub.loc[df_sub['Relevance'].str.contains('relevant'), 'is_relevant']=1\n",
    "df_sub.loc[df_sub['Relevance'].str.contains('irrelevant'), 'is_relevant'] = 0"
   ]
  },
  {
   "cell_type": "code",
   "execution_count": null,
   "id": "dc20f777-16f1-428f-837c-3ddac6bf64ff",
   "metadata": {},
   "outputs": [],
   "source": []
  },
  {
   "cell_type": "code",
   "execution_count": 316,
   "id": "23841db0-6738-4829-8112-7be0a76b210a",
   "metadata": {},
   "outputs": [
    {
     "name": "stdout",
     "output_type": "stream",
     "text": [
      "Original Contingency Table:\n",
      "          Array2=0  Array2=1\n",
      "Array1=0      1643      1177\n",
      "Array1=1        82        84\n",
      "\n",
      "Filtered Contingency Table (Excluding (0,0)):\n",
      "          Array2=0  Array2=1\n",
      "Array1=0    1177.0      84.0\n",
      "Array1=1      82.0       NaN\n",
      "\n",
      "Chi-Squared Test (Zero-Inflation Adjusted):\n",
      "Chi-Squared Statistic: 4.693069335533469, p-value: 0.03028450428059145\n",
      "\n",
      "Odds Ratio: 1.430\n",
      "95% Confidence Interval: (1.045, 1.956)\n",
      "Fisher’s Exact Test p-value: 0.029\n"
     ]
    }
   ],
   "source": [
    "# Example zero-inflated binary arrays\n",
    "array1 = df_sub['is_rep']\n",
    "array2 = df_sub['is_relevant']\n",
    "\n",
    "# Create full contingency table\n",
    "a = np.sum((array1 == 0) & (array2 == 0))  # Majority (0,0)\n",
    "b = np.sum((array1 == 0) & (array2 == 1))\n",
    "c = np.sum((array1 == 1) & (array2 == 0))\n",
    "d = np.sum((array1 == 1) & (array2 == 1))\n",
    "\n",
    "full_table = np.array([[a, b], [c, d]])\n",
    "\n",
    "# Create contingency table **excluding (0,0) cases** to fix zero-inflation issue\n",
    "filtered_table = np.array([[b, d], [c, np.nan]])  # NaN to prevent chi-squared issues\n",
    "\n",
    "print(\"Original Contingency Table:\")\n",
    "print(pd.DataFrame(full_table, index=[\"Array1=0\", \"Array1=1\"], columns=[\"Array2=0\", \"Array2=1\"]))\n",
    "\n",
    "print(\"\\nFiltered Contingency Table (Excluding (0,0)):\")\n",
    "print(pd.DataFrame(filtered_table, index=[\"Array1=0\", \"Array1=1\"], columns=[\"Array2=0\", \"Array2=1\"]))\n",
    "\n",
    "# Use only the non-zero part of the contingency table\n",
    "chi2_stat, chi2_p, dof, expected = chi2_contingency(full_table, correction=True)\n",
    "\n",
    "print(f\"\\nChi-Squared Test (Zero-Inflation Adjusted):\")\n",
    "print(f\"Chi-Squared Statistic: {chi2_stat}, p-value: {chi2_p}\\n\")\n",
    "\n",
    "# Compute OR using Fisher’s Exact Test\n",
    "odds_ratio, fisher_p = fisher_exact([[a, b], [c, d]])\n",
    "\n",
    "# Compute Standard Error (SE) of log(OR)\n",
    "if a > 0 and b > 0 and c > 0 and d > 0:\n",
    "    se_log_or = np.sqrt(1/a + 1/b + 1/c + 1/d)\n",
    "    log_or = np.log(odds_ratio)\n",
    "    \n",
    "    # 95% Confidence Interval\n",
    "    z = 1.96  # 95% CI\n",
    "    #z = 1.645 # 90% CI\n",
    "    ci_lower = np.exp(log_or - z * se_log_or)\n",
    "    ci_upper = np.exp(log_or + z * se_log_or)\n",
    "    \n",
    "    print(f\"Odds Ratio: {odds_ratio:.3f}\")\n",
    "    print(f\"95% Confidence Interval: ({ci_lower:.3f}, {ci_upper:.3f})\")\n",
    "    print(f\"Fisher’s Exact Test p-value: {fisher_p:.3f}\")\n",
    "else:\n",
    "    print(\"Confidence interval cannot be computed due to zero counts.\")"
   ]
  },
  {
   "cell_type": "markdown",
   "id": "2144c566-822f-4a14-b53a-66592cab57d0",
   "metadata": {},
   "source": [
    "**conclusion: repetition and relevance are not significantly associated**"
   ]
  },
  {
   "cell_type": "code",
   "execution_count": null,
   "id": "15866ad3-9242-4d7a-b2c4-8abe45ad97d8",
   "metadata": {},
   "outputs": [],
   "source": []
  },
  {
   "cell_type": "markdown",
   "id": "2f115911-36b7-48e8-a7e1-d8ee9849e99a",
   "metadata": {},
   "source": [
    "### text length and relevance"
   ]
  },
  {
   "cell_type": "code",
   "execution_count": 321,
   "id": "dd0cabe0-edf4-4e8c-a593-4b185c3b95bf",
   "metadata": {},
   "outputs": [],
   "source": [
    "sel = df_sub['is_relevant']==1\n",
    "value_1 = df_sub[sel]['text_len']\n",
    "value_0 = df_sub[~sel]['text_len']"
   ]
  },
  {
   "cell_type": "code",
   "execution_count": 322,
   "id": "51a32778-bec1-4520-80d5-8de900553bd5",
   "metadata": {},
   "outputs": [
    {
     "data": {
      "image/png": "[encoded data removed]",
      "text/plain": [
       "<Figure size 800x500 with 1 Axes>"
      ]
     },
     "metadata": {},
     "output_type": "display_data"
    }
   ],
   "source": [
    "plt.figure(figsize=(8,5))\n",
    "sns.histplot(value_1, color=\"blue\", label=\"relevant\", kde=True, stat=\"density\", alpha=0.5)\n",
    "sns.histplot(value_0, color=\"red\", label=\"irrelevant\", kde=True, stat=\"density\", alpha=0.5)\n",
    "plt.legend()\n",
    "plt.title(\"Distribution of self text length by Relevance\")\n",
    "plt.show()"
   ]
  },
  {
   "cell_type": "code",
   "execution_count": 324,
   "id": "6033abc0-0e5a-46e5-a994-20e9866aa912",
   "metadata": {},
   "outputs": [
    {
     "data": {
      "image/png": "[encoded data removed]",
      "text/plain": [
       "<Figure size 800x500 with 1 Axes>"
      ]
     },
     "metadata": {},
     "output_type": "display_data"
    }
   ],
   "source": [
    "plt.figure(figsize=(8,5))\n",
    "sns.boxplot(x=df_sub['is_relevant'], y=df_sub['text_len'])\n",
    "plt.yscale(\"log\")  # Log-scale for better visualization\n",
    "plt.title(\"Boxplot of Values by Label\")\n",
    "plt.show()"
   ]
  },
  {
   "cell_type": "code",
   "execution_count": 325,
   "id": "409275d5-5091-4d98-99ec-81e48ad26815",
   "metadata": {},
   "outputs": [
    {
     "name": "stdout",
     "output_type": "stream",
     "text": [
      "KS Test Statistic: 0.2675456561964854, p-value: 2.3006186478983728e-46\n",
      "Mann-Whitney U Test Statistic: 1321080.0, p-value: 5.2141191148543035e-24\n",
      "Median for Label 0: 4558.0\n",
      "Median for Label 1: 1234.0\n"
     ]
    }
   ],
   "source": [
    "\n",
    "ks_stat, ks_p = ks_2samp(value_0, value_1)\n",
    "print(f\"KS Test Statistic: {ks_stat}, p-value: {ks_p}\")\n",
    "\n",
    "mw_stat, mw_p = mannwhitneyu(value_0, value_1, alternative='greater')\n",
    "print(f\"Mann-Whitney U Test Statistic: {mw_stat}, p-value: {mw_p}\")\n",
    "\n",
    "median_0 = value_0.median()\n",
    "median_1 = value_1.median()\n",
    "\n",
    "print(f\"Median for Label 0: {median_0}\")\n",
    "print(f\"Median for Label 1: {median_1}\")"
   ]
  },
  {
   "cell_type": "markdown",
   "id": "bbab8734-1930-4c81-a92e-72d8ac58815d",
   "metadata": {},
   "source": [
    "**conclusion: selftext length and relevance are significantly associated.**"
   ]
  },
  {
   "cell_type": "code",
   "execution_count": null,
   "id": "ff5c2333-0cc6-4904-b726-328d453eb2c2",
   "metadata": {},
   "outputs": [],
   "source": []
  },
  {
   "cell_type": "code",
   "execution_count": null,
   "id": "982069a0-5ae5-4454-96a6-8a752531973a",
   "metadata": {},
   "outputs": [],
   "source": []
  },
  {
   "cell_type": "code",
   "execution_count": null,
   "id": "9a878d35-a670-4956-b56f-300f1196b62a",
   "metadata": {},
   "outputs": [],
   "source": []
  },
  {
   "cell_type": "code",
   "execution_count": null,
   "id": "ca6008bb-e092-42b1-b8bb-29ae1a62efd5",
   "metadata": {},
   "outputs": [],
   "source": []
  },
  {
   "cell_type": "code",
   "execution_count": null,
   "id": "35a2e1d5-3c66-43dd-b439-982841ce5d5e",
   "metadata": {},
   "outputs": [],
   "source": []
  }
 ],
 "metadata": {
  "kernelspec": {
   "display_name": "Python 3 (ipykernel)",
   "language": "python",
   "name": "python3"
  },
  "language_info": {
   "codemirror_mode": {
    "name": "ipython",
    "version": 3
   },
   "file_extension": ".py",
   "mimetype": "text/x-python",
   "name": "python",
   "nbconvert_exporter": "python",
   "pygments_lexer": "ipython3",
   "version": "3.11.6"
  }
 },
 "nbformat": 4,
 "nbformat_minor": 5
}
